{
 "cells": [
  {
   "cell_type": "markdown",
   "metadata": {
    "id": "WSQ5Fev3rZ2M"
   },
   "source": [
    "# Web scraping\n",
    "\n",
    "Web scraping is a technique used to extract data from websites. It involves sending HTTP requests to websites, parsing the returned HTML code, and extracting the desired data. Web scraping is a powerful tool for data scientists as it allows them to collect large amounts of data from the web. This data can then be used to train machine learning models, analyse trends, and make informed business decisions."
   ]
  },
  {
   "cell_type": "markdown",
   "metadata": {
    "id": "ktDmVq208N_-"
   },
   "source": [
    "---\n",
    "## 1.&nbsp; Import libraries 💾"
   ]
  },
  {
   "cell_type": "code",
   "execution_count": 67,
   "metadata": {
    "id": "wL77EPUT7tc6"
   },
   "outputs": [],
   "source": [
    "import pandas as pd\n",
    "import requests\n",
    "from bs4 import BeautifulSoup"
   ]
  },
  {
   "cell_type": "markdown",
   "metadata": {
    "id": "xg2dCwV69i6u"
   },
   "source": [
    "---\n",
    "## 2.&nbsp; Beautiful Soup 🍲\n",
    "\n",
    "[Beautiful Soup](https://www.crummy.com/software/BeautifulSoup/bs4/doc/) is a Python library that simplifies the process of web scraping. It provides a user-friendly interface for parsing HTML documents, enabling users to extract specific information from websites. Through Beautiful Soup, you can navigate the HTML tree structure, locate elements based on their tags, attributes, and content, and extract the desired data into a structured format."
   ]
  },
  {
   "cell_type": "markdown",
   "metadata": {
    "id": "tfSTZsHAClN-"
   },
   "source": [
    "\n",
    "Beautiful Soup's HTML parser takes the raw, unruly HTML code and transforms it into a neatly organised tree structure, making the information easily accessible and manageable."
   ]
  },
  {
   "cell_type": "code",
   "execution_count": 68,
   "metadata": {},
   "outputs": [],
   "source": [
    "from bs4 import BeautifulSoup\n",
    "from datetime import datetime # to get today's date"
   ]
  },
  {
   "cell_type": "code",
   "execution_count": 69,
   "metadata": {},
   "outputs": [],
   "source": [
    "#!pip install lat-lon-parser"
   ]
  },
  {
   "cell_type": "code",
   "execution_count": 70,
   "metadata": {},
   "outputs": [],
   "source": [
    "from lat_lon_parser import parse\n",
    "# For changing the latitutde and longitude to decimal format"
   ]
  },
  {
   "cell_type": "code",
   "execution_count": 79,
   "metadata": {},
   "outputs": [],
   "source": [
    "def create_wiki(city_list): \n",
    "#empty list for dataframe that will be filled with info for each city in the city_list\n",
    "    list_for_df = []\n",
    "\n",
    "    for city in city_list:\n",
    "          # Wikipedia's universal structure for cities\n",
    "          url = f\"https://en.wikipedia.org/wiki/{city}\"\n",
    "          # Creating the soup for each city\n",
    "          response = requests.get(url)\n",
    "          soup = BeautifulSoup(response.content,'html.parser')\n",
    "        \n",
    "          #empty dictionary to be filled with city infromation\n",
    "          dict_for_cities ={}\n",
    "        \n",
    "          dict_for_cities['city_name'] = soup.select('#firstHeading')[0].get_text()\n",
    "          # Extracting country information\n",
    "          dict_for_cities['country_name'] = soup.select('td.infobox-data')[0].get_text(strip=True)\n",
    "          # To find the population\n",
    "          if soup.select_one('th.infobox-header:-soup-contains(\"Population\")'):\n",
    "              city_population = soup.select_one('th.infobox-header:-soup-contains(\"Population\")').parent.find_next_sibling().find(string=re.compile(r'\\d+'))\n",
    "              city_population_clean = int(city_population.replace(\",\", \"\"))\n",
    "              dict_for_cities['population'] = city_population_clean\n",
    "          # Adding Timestamp\n",
    "          today = datetime.today().strftime(\"%d.%m.%Y\")\n",
    "          dict_for_cities['timestamp'] = today\n",
    "          # Parsing to convert them into decimals\n",
    "          latitude = soup.select('span.latitude')[0].get_text()\n",
    "          dict_for_cities['latitude'] = round(parse(latitude), 6)\n",
    "          longitude = soup.select('span.longitude')[0].get_text()\n",
    "          dict_for_cities['longitude'] = round(parse(longitude), 6)\n",
    "  \n",
    "          list_for_df.append(dict_for_cities)\n",
    "\n",
    "    return list_for_df"
   ]
  },
  {
   "cell_type": "code",
   "execution_count": 80,
   "metadata": {},
   "outputs": [
    {
     "data": {
      "text/plain": [
       "[{'city_name': 'Berlin',\n",
       "  'country_name': 'Germany',\n",
       "  'population': 3596999,\n",
       "  'timestamp': '15.03.2025',\n",
       "  'latitude': 52.52,\n",
       "  'longitude': 13.405},\n",
       " {'city_name': 'Hamburg',\n",
       "  'country_name': 'Germany',\n",
       "  'population': 1964021,\n",
       "  'timestamp': '15.03.2025',\n",
       "  'latitude': 53.55,\n",
       "  'longitude': 10.0},\n",
       " {'city_name': 'Munich',\n",
       "  'country_name': 'Germany',\n",
       "  'population': 1510378,\n",
       "  'timestamp': '15.03.2025',\n",
       "  'latitude': 48.1375,\n",
       "  'longitude': 11.575},\n",
       " {'city_name': 'London',\n",
       "  'country_name': 'United Kingdom',\n",
       "  'population': 8866180,\n",
       "  'timestamp': '15.03.2025',\n",
       "  'latitude': 51.507222,\n",
       "  'longitude': -0.1275},\n",
       " {'city_name': 'Prague',\n",
       "  'country_name': 'Czech Republic',\n",
       "  'population': 1384732,\n",
       "  'timestamp': '15.03.2025',\n",
       "  'latitude': 50.0875,\n",
       "  'longitude': 14.421389},\n",
       " {'city_name': 'Istanbul',\n",
       "  'country_name': 'Turkey',\n",
       "  'population': 15701602,\n",
       "  'timestamp': '15.03.2025',\n",
       "  'latitude': 41.013611,\n",
       "  'longitude': 28.955}]"
      ]
     },
     "execution_count": 80,
     "metadata": {},
     "output_type": "execute_result"
    }
   ],
   "source": [
    "cities = [\"Berlin\", 'Hamburg','Munich', 'London','Prague','Istanbul']\n",
    "create_wiki(cities)"
   ]
  },
  {
   "cell_type": "code",
   "execution_count": 81,
   "metadata": {},
   "outputs": [
    {
     "data": {
      "text/html": [
       "<div>\n",
       "<style scoped>\n",
       "    .dataframe tbody tr th:only-of-type {\n",
       "        vertical-align: middle;\n",
       "    }\n",
       "\n",
       "    .dataframe tbody tr th {\n",
       "        vertical-align: top;\n",
       "    }\n",
       "\n",
       "    .dataframe thead th {\n",
       "        text-align: right;\n",
       "    }\n",
       "</style>\n",
       "<table border=\"1\" class=\"dataframe\">\n",
       "  <thead>\n",
       "    <tr style=\"text-align: right;\">\n",
       "      <th></th>\n",
       "      <th>city_name</th>\n",
       "      <th>country_name</th>\n",
       "      <th>population</th>\n",
       "      <th>timestamp</th>\n",
       "      <th>latitude</th>\n",
       "      <th>longitude</th>\n",
       "    </tr>\n",
       "  </thead>\n",
       "  <tbody>\n",
       "    <tr>\n",
       "      <th>0</th>\n",
       "      <td>Berlin</td>\n",
       "      <td>Germany</td>\n",
       "      <td>3596999</td>\n",
       "      <td>15.03.2025</td>\n",
       "      <td>52.520000</td>\n",
       "      <td>13.405000</td>\n",
       "    </tr>\n",
       "    <tr>\n",
       "      <th>1</th>\n",
       "      <td>Hamburg</td>\n",
       "      <td>Germany</td>\n",
       "      <td>1964021</td>\n",
       "      <td>15.03.2025</td>\n",
       "      <td>53.550000</td>\n",
       "      <td>10.000000</td>\n",
       "    </tr>\n",
       "    <tr>\n",
       "      <th>2</th>\n",
       "      <td>Munich</td>\n",
       "      <td>Germany</td>\n",
       "      <td>1510378</td>\n",
       "      <td>15.03.2025</td>\n",
       "      <td>48.137500</td>\n",
       "      <td>11.575000</td>\n",
       "    </tr>\n",
       "    <tr>\n",
       "      <th>3</th>\n",
       "      <td>London</td>\n",
       "      <td>United Kingdom</td>\n",
       "      <td>8866180</td>\n",
       "      <td>15.03.2025</td>\n",
       "      <td>51.507222</td>\n",
       "      <td>-0.127500</td>\n",
       "    </tr>\n",
       "    <tr>\n",
       "      <th>4</th>\n",
       "      <td>Prague</td>\n",
       "      <td>Czech Republic</td>\n",
       "      <td>1384732</td>\n",
       "      <td>15.03.2025</td>\n",
       "      <td>50.087500</td>\n",
       "      <td>14.421389</td>\n",
       "    </tr>\n",
       "    <tr>\n",
       "      <th>5</th>\n",
       "      <td>Istanbul</td>\n",
       "      <td>Turkey</td>\n",
       "      <td>15701602</td>\n",
       "      <td>15.03.2025</td>\n",
       "      <td>41.013611</td>\n",
       "      <td>28.955000</td>\n",
       "    </tr>\n",
       "  </tbody>\n",
       "</table>\n",
       "</div>"
      ],
      "text/plain": [
       "  city_name    country_name  population   timestamp   latitude  longitude\n",
       "0    Berlin         Germany     3596999  15.03.2025  52.520000  13.405000\n",
       "1   Hamburg         Germany     1964021  15.03.2025  53.550000  10.000000\n",
       "2    Munich         Germany     1510378  15.03.2025  48.137500  11.575000\n",
       "3    London  United Kingdom     8866180  15.03.2025  51.507222  -0.127500\n",
       "4    Prague  Czech Republic     1384732  15.03.2025  50.087500  14.421389\n",
       "5  Istanbul          Turkey    15701602  15.03.2025  41.013611  28.955000"
      ]
     },
     "execution_count": 81,
     "metadata": {},
     "output_type": "execute_result"
    }
   ],
   "source": [
    " # make the DataFrame\n",
    "cities_df = pd.DataFrame(create_wiki(cities))\n",
    "cities_df"
   ]
  },
  {
   "cell_type": "code",
   "execution_count": 82,
   "metadata": {
    "id": "dvpWmPBkvjXH"
   },
   "outputs": [],
   "source": [
    "#!pip install sqlalchemy\n",
    "#!pip install pymysql\n",
    "import sqlalchemy"
   ]
  },
  {
   "cell_type": "code",
   "execution_count": 83,
   "metadata": {},
   "outputs": [],
   "source": [
    "import pandas as pd"
   ]
  },
  {
   "cell_type": "code",
   "execution_count": 84,
   "metadata": {},
   "outputs": [],
   "source": [
    "schema = \"cities\"  # Your database name\n",
    "host = \"127.0.0.1\"       # Your server (localhost if running locally)\n",
    "user = \"root\"            # Your MySQL username\n",
    "password = \"568923Ebru0079.\"  # Your MySQL password\n",
    "port = 3306              # Default MySQL port\n",
    "\n",
    "# Create the connection string for SQLAlchemy\n",
    "connection_string = f\"mysql+pymysql://{user}:{password}@{host}:{port}/{schema}\"\n"
   ]
  },
  {
   "cell_type": "code",
   "execution_count": 85,
   "metadata": {},
   "outputs": [],
   "source": [
    "from sqlalchemy import create_engine\n",
    "import pandas as pd\n",
    "\n",
    "# Create the engine\n",
    "engine = create_engine(connection_string)\n"
   ]
  },
  {
   "cell_type": "code",
   "execution_count": 86,
   "metadata": {},
   "outputs": [
    {
     "data": {
      "text/html": [
       "<div>\n",
       "<style scoped>\n",
       "    .dataframe tbody tr th:only-of-type {\n",
       "        vertical-align: middle;\n",
       "    }\n",
       "\n",
       "    .dataframe tbody tr th {\n",
       "        vertical-align: top;\n",
       "    }\n",
       "\n",
       "    .dataframe thead th {\n",
       "        text-align: right;\n",
       "    }\n",
       "</style>\n",
       "<table border=\"1\" class=\"dataframe\">\n",
       "  <thead>\n",
       "    <tr style=\"text-align: right;\">\n",
       "      <th></th>\n",
       "      <th>country_name</th>\n",
       "    </tr>\n",
       "  </thead>\n",
       "  <tbody>\n",
       "    <tr>\n",
       "      <th>0</th>\n",
       "      <td>Germany</td>\n",
       "    </tr>\n",
       "    <tr>\n",
       "      <th>1</th>\n",
       "      <td>United Kingdom</td>\n",
       "    </tr>\n",
       "    <tr>\n",
       "      <th>2</th>\n",
       "      <td>Czech Republic</td>\n",
       "    </tr>\n",
       "    <tr>\n",
       "      <th>3</th>\n",
       "      <td>Turkey</td>\n",
       "    </tr>\n",
       "  </tbody>\n",
       "</table>\n",
       "</div>"
      ],
      "text/plain": [
       "     country_name\n",
       "0         Germany\n",
       "1  United Kingdom\n",
       "2  Czech Republic\n",
       "3          Turkey"
      ]
     },
     "execution_count": 86,
     "metadata": {},
     "output_type": "execute_result"
    }
   ],
   "source": [
    "countries_unique = cities_df['country_name'].unique()\n",
    "countries_unique_df = pd.DataFrame({'country_name' : countries_unique})\n",
    "countries_unique_df"
   ]
  },
  {
   "cell_type": "code",
   "execution_count": 87,
   "metadata": {},
   "outputs": [
    {
     "data": {
      "text/plain": [
       "4"
      ]
     },
     "execution_count": 87,
     "metadata": {},
     "output_type": "execute_result"
    }
   ],
   "source": [
    "countries_unique_df.to_sql('countries',\n",
    "                  # we want to append not overwrite\n",
    "                  if_exists='append',\n",
    "                  con=connection_string,\n",
    "                  index=False)"
   ]
  },
  {
   "cell_type": "code",
   "execution_count": 93,
   "metadata": {},
   "outputs": [
    {
     "data": {
      "text/html": [
       "<div>\n",
       "<style scoped>\n",
       "    .dataframe tbody tr th:only-of-type {\n",
       "        vertical-align: middle;\n",
       "    }\n",
       "\n",
       "    .dataframe tbody tr th {\n",
       "        vertical-align: top;\n",
       "    }\n",
       "\n",
       "    .dataframe thead th {\n",
       "        text-align: right;\n",
       "    }\n",
       "</style>\n",
       "<table border=\"1\" class=\"dataframe\">\n",
       "  <thead>\n",
       "    <tr style=\"text-align: right;\">\n",
       "      <th></th>\n",
       "      <th>country_name</th>\n",
       "    </tr>\n",
       "  </thead>\n",
       "  <tbody>\n",
       "    <tr>\n",
       "      <th>0</th>\n",
       "      <td>Germany</td>\n",
       "    </tr>\n",
       "    <tr>\n",
       "      <th>1</th>\n",
       "      <td>United Kingdom</td>\n",
       "    </tr>\n",
       "    <tr>\n",
       "      <th>2</th>\n",
       "      <td>Czech Republic</td>\n",
       "    </tr>\n",
       "    <tr>\n",
       "      <th>3</th>\n",
       "      <td>Turkey</td>\n",
       "    </tr>\n",
       "  </tbody>\n",
       "</table>\n",
       "</div>"
      ],
      "text/plain": [
       "     country_name\n",
       "0         Germany\n",
       "1  United Kingdom\n",
       "2  Czech Republic\n",
       "3          Turkey"
      ]
     },
     "execution_count": 93,
     "metadata": {},
     "output_type": "execute_result"
    }
   ],
   "source": [
    "# Bringing back the country_name info from SQL to Python \n",
    "pd.read_sql(\n",
    "            ''' SELECT DISTINCT country_name\n",
    "                FROM countries '''\n",
    "            ,\n",
    "            con=connection_string)"
   ]
  },
  {
   "cell_type": "code",
   "execution_count": 94,
   "metadata": {},
   "outputs": [
    {
     "data": {
      "text/html": [
       "<div>\n",
       "<style scoped>\n",
       "    .dataframe tbody tr th:only-of-type {\n",
       "        vertical-align: middle;\n",
       "    }\n",
       "\n",
       "    .dataframe tbody tr th {\n",
       "        vertical-align: top;\n",
       "    }\n",
       "\n",
       "    .dataframe thead th {\n",
       "        text-align: right;\n",
       "    }\n",
       "</style>\n",
       "<table border=\"1\" class=\"dataframe\">\n",
       "  <thead>\n",
       "    <tr style=\"text-align: right;\">\n",
       "      <th></th>\n",
       "      <th>country_id</th>\n",
       "      <th>country_name</th>\n",
       "    </tr>\n",
       "  </thead>\n",
       "  <tbody>\n",
       "    <tr>\n",
       "      <th>0</th>\n",
       "      <td>1</td>\n",
       "      <td>Germany</td>\n",
       "    </tr>\n",
       "    <tr>\n",
       "      <th>1</th>\n",
       "      <td>2</td>\n",
       "      <td>United Kingdom</td>\n",
       "    </tr>\n",
       "    <tr>\n",
       "      <th>2</th>\n",
       "      <td>3</td>\n",
       "      <td>Czech Republic</td>\n",
       "    </tr>\n",
       "    <tr>\n",
       "      <th>3</th>\n",
       "      <td>4</td>\n",
       "      <td>Turkey</td>\n",
       "    </tr>\n",
       "  </tbody>\n",
       "</table>\n",
       "</div>"
      ],
      "text/plain": [
       "   country_id    country_name\n",
       "0           1         Germany\n",
       "1           2  United Kingdom\n",
       "2           3  Czech Republic\n",
       "3           4          Turkey"
      ]
     },
     "execution_count": 94,
     "metadata": {},
     "output_type": "execute_result"
    }
   ],
   "source": [
    "# Bringing back the countries table from SQL to Python \n",
    "countries_from_sql = pd.read_sql(\"countries\", con=connection_string)\n",
    "countries_from_sql"
   ]
  },
  {
   "cell_type": "code",
   "execution_count": 95,
   "metadata": {},
   "outputs": [
    {
     "data": {
      "text/html": [
       "<div>\n",
       "<style scoped>\n",
       "    .dataframe tbody tr th:only-of-type {\n",
       "        vertical-align: middle;\n",
       "    }\n",
       "\n",
       "    .dataframe tbody tr th {\n",
       "        vertical-align: top;\n",
       "    }\n",
       "\n",
       "    .dataframe thead th {\n",
       "        text-align: right;\n",
       "    }\n",
       "</style>\n",
       "<table border=\"1\" class=\"dataframe\">\n",
       "  <thead>\n",
       "    <tr style=\"text-align: right;\">\n",
       "      <th></th>\n",
       "      <th>city_name</th>\n",
       "      <th>country_name</th>\n",
       "      <th>population</th>\n",
       "      <th>timestamp</th>\n",
       "      <th>latitude</th>\n",
       "      <th>longitude</th>\n",
       "      <th>country_id</th>\n",
       "    </tr>\n",
       "  </thead>\n",
       "  <tbody>\n",
       "    <tr>\n",
       "      <th>0</th>\n",
       "      <td>Berlin</td>\n",
       "      <td>Germany</td>\n",
       "      <td>3596999</td>\n",
       "      <td>15.03.2025</td>\n",
       "      <td>52.520000</td>\n",
       "      <td>13.405000</td>\n",
       "      <td>1</td>\n",
       "    </tr>\n",
       "    <tr>\n",
       "      <th>1</th>\n",
       "      <td>Hamburg</td>\n",
       "      <td>Germany</td>\n",
       "      <td>1964021</td>\n",
       "      <td>15.03.2025</td>\n",
       "      <td>53.550000</td>\n",
       "      <td>10.000000</td>\n",
       "      <td>1</td>\n",
       "    </tr>\n",
       "    <tr>\n",
       "      <th>2</th>\n",
       "      <td>Munich</td>\n",
       "      <td>Germany</td>\n",
       "      <td>1510378</td>\n",
       "      <td>15.03.2025</td>\n",
       "      <td>48.137500</td>\n",
       "      <td>11.575000</td>\n",
       "      <td>1</td>\n",
       "    </tr>\n",
       "    <tr>\n",
       "      <th>3</th>\n",
       "      <td>London</td>\n",
       "      <td>United Kingdom</td>\n",
       "      <td>8866180</td>\n",
       "      <td>15.03.2025</td>\n",
       "      <td>51.507222</td>\n",
       "      <td>-0.127500</td>\n",
       "      <td>2</td>\n",
       "    </tr>\n",
       "    <tr>\n",
       "      <th>4</th>\n",
       "      <td>Prague</td>\n",
       "      <td>Czech Republic</td>\n",
       "      <td>1384732</td>\n",
       "      <td>15.03.2025</td>\n",
       "      <td>50.087500</td>\n",
       "      <td>14.421389</td>\n",
       "      <td>3</td>\n",
       "    </tr>\n",
       "    <tr>\n",
       "      <th>5</th>\n",
       "      <td>Istanbul</td>\n",
       "      <td>Turkey</td>\n",
       "      <td>15701602</td>\n",
       "      <td>15.03.2025</td>\n",
       "      <td>41.013611</td>\n",
       "      <td>28.955000</td>\n",
       "      <td>4</td>\n",
       "    </tr>\n",
       "  </tbody>\n",
       "</table>\n",
       "</div>"
      ],
      "text/plain": [
       "  city_name    country_name  population   timestamp   latitude  longitude  \\\n",
       "0    Berlin         Germany     3596999  15.03.2025  52.520000  13.405000   \n",
       "1   Hamburg         Germany     1964021  15.03.2025  53.550000  10.000000   \n",
       "2    Munich         Germany     1510378  15.03.2025  48.137500  11.575000   \n",
       "3    London  United Kingdom     8866180  15.03.2025  51.507222  -0.127500   \n",
       "4    Prague  Czech Republic     1384732  15.03.2025  50.087500  14.421389   \n",
       "5  Istanbul          Turkey    15701602  15.03.2025  41.013611  28.955000   \n",
       "\n",
       "   country_id  \n",
       "0           1  \n",
       "1           1  \n",
       "2           1  \n",
       "3           2  \n",
       "4           3  \n",
       "5           4  "
      ]
     },
     "execution_count": 95,
     "metadata": {},
     "output_type": "execute_result"
    }
   ],
   "source": [
    "# Merging cities table with country table from SQL \n",
    "cities_table_df = cities_df.merge(countries_from_sql,\n",
    "                                   left_on=\"country_name\",\n",
    "                                   right_on=\"country_name\", \n",
    "                                   how=\"left\")\n",
    "\n",
    "cities_table_df"
   ]
  },
  {
   "cell_type": "code",
   "execution_count": 96,
   "metadata": {},
   "outputs": [
    {
     "data": {
      "text/html": [
       "<div>\n",
       "<style scoped>\n",
       "    .dataframe tbody tr th:only-of-type {\n",
       "        vertical-align: middle;\n",
       "    }\n",
       "\n",
       "    .dataframe tbody tr th {\n",
       "        vertical-align: top;\n",
       "    }\n",
       "\n",
       "    .dataframe thead th {\n",
       "        text-align: right;\n",
       "    }\n",
       "</style>\n",
       "<table border=\"1\" class=\"dataframe\">\n",
       "  <thead>\n",
       "    <tr style=\"text-align: right;\">\n",
       "      <th></th>\n",
       "      <th>city_name</th>\n",
       "      <th>population</th>\n",
       "      <th>timestamp</th>\n",
       "      <th>latitude</th>\n",
       "      <th>longitude</th>\n",
       "      <th>country_id</th>\n",
       "    </tr>\n",
       "  </thead>\n",
       "  <tbody>\n",
       "    <tr>\n",
       "      <th>0</th>\n",
       "      <td>Berlin</td>\n",
       "      <td>3596999</td>\n",
       "      <td>15.03.2025</td>\n",
       "      <td>52.520000</td>\n",
       "      <td>13.405000</td>\n",
       "      <td>1</td>\n",
       "    </tr>\n",
       "    <tr>\n",
       "      <th>1</th>\n",
       "      <td>Hamburg</td>\n",
       "      <td>1964021</td>\n",
       "      <td>15.03.2025</td>\n",
       "      <td>53.550000</td>\n",
       "      <td>10.000000</td>\n",
       "      <td>1</td>\n",
       "    </tr>\n",
       "    <tr>\n",
       "      <th>2</th>\n",
       "      <td>Munich</td>\n",
       "      <td>1510378</td>\n",
       "      <td>15.03.2025</td>\n",
       "      <td>48.137500</td>\n",
       "      <td>11.575000</td>\n",
       "      <td>1</td>\n",
       "    </tr>\n",
       "    <tr>\n",
       "      <th>3</th>\n",
       "      <td>London</td>\n",
       "      <td>8866180</td>\n",
       "      <td>15.03.2025</td>\n",
       "      <td>51.507222</td>\n",
       "      <td>-0.127500</td>\n",
       "      <td>2</td>\n",
       "    </tr>\n",
       "    <tr>\n",
       "      <th>4</th>\n",
       "      <td>Prague</td>\n",
       "      <td>1384732</td>\n",
       "      <td>15.03.2025</td>\n",
       "      <td>50.087500</td>\n",
       "      <td>14.421389</td>\n",
       "      <td>3</td>\n",
       "    </tr>\n",
       "    <tr>\n",
       "      <th>5</th>\n",
       "      <td>Istanbul</td>\n",
       "      <td>15701602</td>\n",
       "      <td>15.03.2025</td>\n",
       "      <td>41.013611</td>\n",
       "      <td>28.955000</td>\n",
       "      <td>4</td>\n",
       "    </tr>\n",
       "  </tbody>\n",
       "</table>\n",
       "</div>"
      ],
      "text/plain": [
       "  city_name  population   timestamp   latitude  longitude  country_id\n",
       "0    Berlin     3596999  15.03.2025  52.520000  13.405000           1\n",
       "1   Hamburg     1964021  15.03.2025  53.550000  10.000000           1\n",
       "2    Munich     1510378  15.03.2025  48.137500  11.575000           1\n",
       "3    London     8866180  15.03.2025  51.507222  -0.127500           2\n",
       "4    Prague     1384732  15.03.2025  50.087500  14.421389           3\n",
       "5  Istanbul    15701602  15.03.2025  41.013611  28.955000           4"
      ]
     },
     "execution_count": 96,
     "metadata": {},
     "output_type": "execute_result"
    }
   ],
   "source": [
    "cities_table_df = cities_table_df.drop(columns=[\"country_name\"])\n",
    "\n",
    "cities_table_df"
   ]
  },
  {
   "cell_type": "code",
   "execution_count": 102,
   "metadata": {},
   "outputs": [
    {
     "name": "stdout",
     "output_type": "stream",
     "text": [
      "datetime64[ns]\n"
     ]
    }
   ],
   "source": [
    "cities_table_df['timestamp'] = pd.to_datetime(cities_table_df['timestamp'])"
   ]
  },
  {
   "cell_type": "code",
   "execution_count": 103,
   "metadata": {},
   "outputs": [
    {
     "data": {
      "text/plain": [
       "6"
      ]
     },
     "execution_count": 103,
     "metadata": {},
     "output_type": "execute_result"
    }
   ],
   "source": [
    "cities_table_df.to_sql('cities',\n",
    "                if_exists='append',\n",
    "                con=engine,\n",
    "                index=False)"
   ]
  },
  {
   "cell_type": "code",
   "execution_count": null,
   "metadata": {},
   "outputs": [],
   "source": []
  }
 ],
 "metadata": {
  "colab": {
   "provenance": [],
   "toc_visible": true
  },
  "kernelspec": {
   "display_name": "Python 3 (ipykernel)",
   "language": "python",
   "name": "python3"
  },
  "language_info": {
   "codemirror_mode": {
    "name": "ipython",
    "version": 3
   },
   "file_extension": ".py",
   "mimetype": "text/x-python",
   "name": "python",
   "nbconvert_exporter": "python",
   "pygments_lexer": "ipython3",
   "version": "3.12.3"
  }
 },
 "nbformat": 4,
 "nbformat_minor": 4
}
