{
 "cells": [
  {
   "cell_type": "code",
   "execution_count": 93,
   "id": "fb8d0c08-b98a-4119-9203-63b9d7d0013e",
   "metadata": {},
   "outputs": [],
   "source": [
    "# import libraries\n",
    "import requests\n",
    "import json\n",
    "import pandas as pd\n",
    "import re\n",
    "import os\n",
    "from dotenv import load_dotenv\n",
    "import sqlalchemy\n",
    "from sqlalchemy import create_engine\n",
    "import pandas as pd\n",
    "from datetime import datetime\n",
    "from pytz import timezone\n"
   ]
  },
  {
   "cell_type": "code",
   "execution_count": 94,
   "id": "525f7ebc-cde3-420f-8cdb-3ef4e0c5663a",
   "metadata": {},
   "outputs": [],
   "source": [
    "# Getting API key\n",
    "load_dotenv(\"api_key.env\")\n",
    "api_key = os.getenv(\"API_KEY\")"
   ]
  },
  {
   "cell_type": "code",
   "execution_count": 95,
   "id": "8e55cd86-403c-4aa6-aedd-f16d48defe87",
   "metadata": {},
   "outputs": [],
   "source": [
    "def create_connection(schema):\n",
    "    host = \"127.0.0.1\"\n",
    "    user = \"root\"\n",
    "    load_dotenv(\"sql_password.env\")\n",
    "    password = os.getenv(\"SQL\")\n",
    "    port = 3306\n",
    "    return f'mysql+pymysql://{user}:{password}@{host}:{port}/{schema}'\n",
    "\n",
    "connection_string = create_connection(\"cities\")"
   ]
  },
  {
   "cell_type": "code",
   "execution_count": 96,
   "id": "fa568860-0857-492c-9e1b-02d4dc99aa71",
   "metadata": {},
   "outputs": [],
   "source": [
    "class WeatherDataUpdater: \n",
    "    def __init__(self, connection_string, api_key):\n",
    "        self.connection_string = connection_string\n",
    "        self.api_key = api_key\n",
    "\n",
    "    def retrieve_and_send_data(self):\n",
    "        cities_df = self.fetch_cities_data()\n",
    "        weather_df = self.fetch_weather_data(cities_df)\n",
    "        self.store_weather_data(weather_df)\n",
    "        return \"Data has been updated\"\n",
    "\n",
    "    def fetch_cities_data(self):\n",
    "        return pd.read_sql(\"cities\", con=self.connection_string)\n",
    "\n",
    "    def fetch_weather_data(self, cities_df):\n",
    "        berlin_timezone = timezone('Europe/Berlin')\n",
    "        # Create an empty dictionary to hold the data\n",
    "        weather_dict = {\"city_id\": [],\n",
    "                        \"city\": [],\n",
    "                        \"latitude\": [],\n",
    "                        \"longitude\": [],\n",
    "                        \"temp\": [],\n",
    "                        \"feels_like\": [],\n",
    "                        \"time_forecasted\": [],\n",
    "                        \"weather\": [],\n",
    "                        \"weather_description\": [],\n",
    "                        \"rain_last_3h\": [],\n",
    "                        \"humidity\": [],\n",
    "                        \"wind_speed\": [],\n",
    "                        \"clouds\": [],\n",
    "                        \"data_retrieved_at\": []\n",
    "                        }\n",
    "\n",
    "        for _, city in cities_df.iterrows():\n",
    "            city_name = city[\"city_name\"]\n",
    "            city_id = city[\"city_id\"]\n",
    "            url = f\"https://api.openweathermap.org/data/2.5/forecast?q={city_name}&units=metric&appid={api_key}\"\n",
    "            response = requests.get(url)\n",
    "            json_data = response.json()\n",
    "            weather_df = pd.json_normalize(json_data[\"list\"])\n",
    "            retrieval_time = datetime.now(berlin_timezone).strftime(\"%Y-%m-%d %H:%M:%S\")\n",
    "\n",
    "            for i in range(0, len(weather_df), 8):\n",
    "                weather_dict['city_id'].append(city_id)\n",
    "                weather_dict['city'].append(json_data['city']['name'])\n",
    "                weather_dict[\"latitude\"].append(json_data['city']['coord']['lat'])\n",
    "                weather_dict[\"longitude\"].append(json_data['city']['coord']['lon'])\n",
    "                weather_dict[\"temp\"].append(json_data['list'][i]['main']['temp'])\n",
    "                weather_dict[\"feels_like\"].append(json_data[\"list\"][i][\"main\"][\"feels_like\"])\n",
    "                weather_dict[\"time_forecasted\"].append(json_data[\"list\"][i]['dt_txt'])\n",
    "                weather_dict[\"weather\"].append(json_data[\"list\"][i]['weather'][0]['main'])\n",
    "                weather_dict[\"weather_description\"].append(json_data[\"list\"][i]['weather'][0]['description'])\n",
    "                weather_dict[\"rain_last_3h\"].append(json_data[\"list\"][i].get(\"rain\", {}).get(\"3h\", 0))\n",
    "                weather_dict[\"humidity\"].append(json_data[\"list\"][i][\"main\"][\"humidity\"])\n",
    "                weather_dict[\"wind_speed\"].append(json_data[\"list\"][i][\"wind\"][\"speed\"])\n",
    "                weather_dict[\"clouds\"].append(json_data[\"list\"][i][\"clouds\"][\"all\"])\n",
    "                weather_dict[\"data_retrieved_at\"].append(retrieval_time)\n",
    "\n",
    "        weather_dataframe = pd.DataFrame(weather_dict)\n",
    "        weather_dataframe[\"time_forecasted\"] = pd.to_datetime(weather_dataframe[\"time_forecasted\"])\n",
    "        weather_dataframe[\"data_retrieved_at\"] = pd.to_datetime(weather_dataframe[\"data_retrieved_at\"])\n",
    "        return weather_dataframe\n",
    "        pass\n",
    "\n",
    "    def store_weather_data(self, weather_dataframe):\n",
    "         #print(\"Storing weather data:\")\n",
    "         #print(weather_df.head())  # Print the first few rows to check the data being passed\n",
    "         weather_dataframe.to_sql(\"weather\",\n",
    "                          con=self.connection_string,\n",
    "                          if_exists=\"append\",\n",
    "                          index=False)\n"
   ]
  },
  {
   "cell_type": "code",
   "execution_count": 97,
   "id": "92041c7a-f70b-4c86-b2d0-0b2a32c490e4",
   "metadata": {},
   "outputs": [
    {
     "data": {
      "text/plain": [
       "'Data has been updated'"
      ]
     },
     "execution_count": 97,
     "metadata": {},
     "output_type": "execute_result"
    }
   ],
   "source": [
    "weather_updater = WeatherDataUpdater(connection_string, api_key)\n",
    "weather_updater.retrieve_and_send_data()"
   ]
  },
  {
   "cell_type": "code",
   "execution_count": null,
   "id": "f0705254-8932-4ed2-8bf4-9f9503ce1eb1",
   "metadata": {},
   "outputs": [],
   "source": []
  }
 ],
 "metadata": {
  "kernelspec": {
   "display_name": "Python 3 (ipykernel)",
   "language": "python",
   "name": "python3"
  },
  "language_info": {
   "codemirror_mode": {
    "name": "ipython",
    "version": 3
   },
   "file_extension": ".py",
   "mimetype": "text/x-python",
   "name": "python",
   "nbconvert_exporter": "python",
   "pygments_lexer": "ipython3",
   "version": "3.12.3"
  }
 },
 "nbformat": 4,
 "nbformat_minor": 5
}
